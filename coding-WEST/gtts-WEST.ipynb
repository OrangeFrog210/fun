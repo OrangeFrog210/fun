{
 "cells": [
  {
   "cell_type": "code",
   "execution_count": 12,
   "id": "43d46c4c",
   "metadata": {},
   "outputs": [],
   "source": [
    "# !pip install gtts"
   ]
  },
  {
   "cell_type": "markdown",
   "id": "2e7319b2",
   "metadata": {},
   "source": [
    "reference: https://www.youtube.com/watch?v=ZdXyOVSJGVE"
   ]
  },
  {
   "cell_type": "code",
   "execution_count": 13,
   "id": "35cd238b",
   "metadata": {},
   "outputs": [],
   "source": [
    "from gtts import gTTS\n",
    "import os"
   ]
  },
  {
   "cell_type": "code",
   "execution_count": 17,
   "id": "c30c26e4",
   "metadata": {},
   "outputs": [
    {
     "name": "stdout",
     "output_type": "stream",
     "text": [
      "Please type something: はろーー\n"
     ]
    },
    {
     "data": {
      "text/plain": [
       "0"
      ]
     },
     "execution_count": 17,
     "metadata": {},
     "output_type": "execute_result"
    }
   ],
   "source": [
    "text = input(\"Please type something: \")\n",
    "\n",
    "speech = gTTS(text=text, lang='ja', slow=False)\n",
    "speech.save(\"shige.mp3\")\n",
    "os.system(\"start shige.mp3\")"
   ]
  },
  {
   "cell_type": "code",
   "execution_count": 20,
   "id": "dbce6039",
   "metadata": {},
   "outputs": [
    {
     "name": "stdout",
     "output_type": "stream",
     "text": [
      "Please type something: 中間淳太　桐山照史　濵田崇裕　重岡大毅　神山智洋　藤井流星　小瀧望\n"
     ]
    },
    {
     "data": {
      "text/plain": [
       "0"
      ]
     },
     "execution_count": 20,
     "metadata": {},
     "output_type": "execute_result"
    }
   ],
   "source": [
    "text = input(\"Please type something: \")\n",
    "\n",
    "speech = gTTS(text=text, lang='ja', slow=False)\n",
    "speech.save(\"west.mp3\")\n",
    "os.system(\"start west.mp3\")\n",
    "# 照史くんだけ正しく読まれない...のんちゃんもちゃんと読んでもらえるのに..."
   ]
  },
  {
   "cell_type": "code",
   "execution_count": null,
   "id": "b1702ea9",
   "metadata": {},
   "outputs": [],
   "source": []
  }
 ],
 "metadata": {
  "kernelspec": {
   "display_name": "Python 3",
   "language": "python",
   "name": "python3"
  },
  "language_info": {
   "codemirror_mode": {
    "name": "ipython",
    "version": 3
   },
   "file_extension": ".py",
   "mimetype": "text/x-python",
   "name": "python",
   "nbconvert_exporter": "python",
   "pygments_lexer": "ipython3",
   "version": "3.8.8"
  }
 },
 "nbformat": 4,
 "nbformat_minor": 5
}
